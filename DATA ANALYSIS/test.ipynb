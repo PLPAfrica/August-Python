{
 "cells": [
  {
   "cell_type": "code",
   "execution_count": 5,
   "id": "502e8ef0-a814-4428-b65e-08db7e6f683b",
   "metadata": {},
   "outputs": [
    {
     "name": "stdout",
     "output_type": "stream",
     "text": [
      "Hello world, This is awesome, I love this\n"
     ]
    }
   ],
   "source": [
    "print(\"Hello world, This is awesome, I love this\")"
   ]
  },
  {
   "cell_type": "code",
   "execution_count": null,
   "id": "408bb71f-b903-4a2a-8ffa-8fc81c195b8f",
   "metadata": {},
   "outputs": [],
   "source": []
  }
 ],
 "metadata": {
  "kernelspec": {
   "display_name": "Python 3 (ipykernel)",
   "language": "python",
   "name": "python3"
  },
  "language_info": {
   "codemirror_mode": {
    "name": "ipython",
    "version": 3
   },
   "file_extension": ".py",
   "mimetype": "text/x-python",
   "name": "python",
   "nbconvert_exporter": "python",
   "pygments_lexer": "ipython3",
   "version": "3.12.7"
  }
 },
 "nbformat": 4,
 "nbformat_minor": 5
}
